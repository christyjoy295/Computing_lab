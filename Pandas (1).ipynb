{
 "cells": [
  {
   "cell_type": "code",
   "execution_count": 1,
   "id": "c56748a3",
   "metadata": {},
   "outputs": [],
   "source": [
    "import pandas as pd"
   ]
  },
  {
   "cell_type": "markdown",
   "id": "0d1ecb2d",
   "metadata": {},
   "source": [
    "# Series creation"
   ]
  },
  {
   "cell_type": "code",
   "execution_count": 2,
   "id": "e344d3f3",
   "metadata": {},
   "outputs": [
    {
     "name": "stdout",
     "output_type": "stream",
     "text": [
      "Series([], dtype: object)\n"
     ]
    }
   ],
   "source": [
    "ser=pd.Series()\n",
    "print(ser)"
   ]
  },
  {
   "cell_type": "code",
   "execution_count": 4,
   "id": "b333da73",
   "metadata": {},
   "outputs": [
    {
     "name": "stdout",
     "output_type": "stream",
     "text": [
      "0    1\n",
      "1    2\n",
      "2    3\n",
      "3    4\n",
      "4    5\n",
      "dtype: int64\n",
      "0    a\n",
      "1    b\n",
      "2    c\n",
      "3    d\n",
      "4    e\n",
      "dtype: string\n"
     ]
    }
   ],
   "source": [
    "data=[1,2,3,4,5]\n",
    "data1=pd.array(['a','b','c','d','e'])\n",
    "ser1=pd.Series(data)\n",
    "ser2=pd.Series(data1)\n",
    "print(ser1)\n",
    "print(ser2)\n"
   ]
  },
  {
   "cell_type": "code",
   "execution_count": 5,
   "id": "da30091c",
   "metadata": {},
   "outputs": [
    {
     "name": "stdout",
     "output_type": "stream",
     "text": [
      "a    0.0\n",
      "b    1.0\n",
      "c    2.0\n",
      "dtype: float64\n",
      "a    0.0\n",
      "b    1.0\n",
      "c    2.0\n",
      "d    NaN\n",
      "dtype: float64\n",
      "a    5\n",
      "b    5\n",
      "c    5\n",
      "d    5\n",
      "dtype: int64\n"
     ]
    }
   ],
   "source": [
    "data2 = {'a' : 0., 'b' : 1., 'c' : 2.}\n",
    "ser3=pd.Series(data2)\n",
    "ser4=pd.Series(data2,index=['a','b','c','d'])\n",
    "ser5=pd.Series(5,index=['a','b','c','d'])\n",
    "print(ser3); print(ser4); print(ser5)"
   ]
  },
  {
   "cell_type": "markdown",
   "id": "63d8085e",
   "metadata": {},
   "source": [
    "# Accessing element of Series"
   ]
  },
  {
   "cell_type": "code",
   "execution_count": 6,
   "id": "9d46e757",
   "metadata": {},
   "outputs": [
    {
     "name": "stdout",
     "output_type": "stream",
     "text": [
      "0    a\n",
      "1    b\n",
      "2    c\n",
      "dtype: string\n"
     ]
    }
   ],
   "source": [
    "print(ser2[:3])"
   ]
  },
  {
   "cell_type": "code",
   "execution_count": 7,
   "id": "d32d8b26",
   "metadata": {},
   "outputs": [
    {
     "name": "stdout",
     "output_type": "stream",
     "text": [
      "2    c\n",
      "3    d\n",
      "4    e\n",
      "dtype: string\n"
     ]
    }
   ],
   "source": [
    "print(ser2[-3:])"
   ]
  },
  {
   "cell_type": "code",
   "execution_count": 8,
   "id": "25ee3088",
   "metadata": {},
   "outputs": [
    {
     "name": "stdout",
     "output_type": "stream",
     "text": [
      "a    5\n",
      "c    5\n",
      "d    5\n",
      "dtype: int64\n"
     ]
    }
   ],
   "source": [
    "print(ser5[['a','c','d']])"
   ]
  },
  {
   "cell_type": "markdown",
   "id": "858e5a92",
   "metadata": {},
   "source": [
    "# Series Attributes"
   ]
  },
  {
   "cell_type": "code",
   "execution_count": 10,
   "id": "abaeb9fb",
   "metadata": {},
   "outputs": [
    {
     "name": "stdout",
     "output_type": "stream",
     "text": [
      "Alp\n",
      "z    1\n",
      "y    2\n",
      "x    3\n",
      "d    4\n",
      "e    5\n",
      "f    6\n",
      "g    7\n",
      "h    8\n",
      "i    9\n",
      "dtype: int64\n"
     ]
    }
   ],
   "source": [
    "data=[1,2,3,4,5,6,7,8,9]\n",
    "ser=pd.Series(data)\n",
    "ser.index=['z','y','x','d','e','f','g','h','i']\n",
    "ser.index.name='Alp'\n",
    "ser.columns=['Num']\n",
    "print(ser)"
   ]
  },
  {
   "cell_type": "code",
   "execution_count": 11,
   "id": "c76a900b",
   "metadata": {},
   "outputs": [
    {
     "name": "stdout",
     "output_type": "stream",
     "text": [
      "int64\n"
     ]
    }
   ],
   "source": [
    "print(ser.dtype)"
   ]
  },
  {
   "cell_type": "code",
   "execution_count": 12,
   "id": "f298738f",
   "metadata": {},
   "outputs": [
    {
     "name": "stdout",
     "output_type": "stream",
     "text": [
      "['Num']\n"
     ]
    }
   ],
   "source": [
    "print(ser.columns)"
   ]
  },
  {
   "cell_type": "code",
   "execution_count": 13,
   "id": "ab76152d",
   "metadata": {},
   "outputs": [
    {
     "name": "stdout",
     "output_type": "stream",
     "text": [
      "[Index(['z', 'y', 'x', 'd', 'e', 'f', 'g', 'h', 'i'], dtype='object', name='Alp')]\n"
     ]
    }
   ],
   "source": [
    "print(ser.axes)"
   ]
  },
  {
   "cell_type": "code",
   "execution_count": 14,
   "id": "1702252a",
   "metadata": {},
   "outputs": [
    {
     "name": "stdout",
     "output_type": "stream",
     "text": [
      "1\n"
     ]
    }
   ],
   "source": [
    "print(ser.ndim)"
   ]
  },
  {
   "cell_type": "code",
   "execution_count": 15,
   "id": "64aeddd9",
   "metadata": {},
   "outputs": [
    {
     "name": "stdout",
     "output_type": "stream",
     "text": [
      "9\n"
     ]
    }
   ],
   "source": [
    "print(ser.size)"
   ]
  },
  {
   "cell_type": "code",
   "execution_count": 16,
   "id": "ed0f286d",
   "metadata": {},
   "outputs": [
    {
     "name": "stdout",
     "output_type": "stream",
     "text": [
      "(9,)\n",
      "[1 2 3 4 5 6 7 8 9]\n"
     ]
    }
   ],
   "source": [
    "print(ser.shape)\n",
    "print(ser.values)"
   ]
  },
  {
   "cell_type": "markdown",
   "id": "8384f863",
   "metadata": {},
   "source": [
    "# Series Functions"
   ]
  },
  {
   "cell_type": "code",
   "execution_count": 17,
   "id": "c0beebd9",
   "metadata": {},
   "outputs": [
    {
     "name": "stdout",
     "output_type": "stream",
     "text": [
      "<class 'pandas.core.series.Series'>\n"
     ]
    }
   ],
   "source": [
    "data=[1,2,3,4,5,6,7,8,9]\n",
    "data2 = {'a' : 0., 'b' : 1., 'c' : 2.}\n",
    "ser=pd.Series(data)\n",
    "ser.index=['z','y','x','d','e','f','g','h','i']\n",
    "ser4=pd.Series(data2,index=['a','b','c','d'])\n",
    "print(type(ser))"
   ]
  },
  {
   "cell_type": "code",
   "execution_count": 18,
   "id": "6ea72258",
   "metadata": {},
   "outputs": [
    {
     "name": "stdout",
     "output_type": "stream",
     "text": [
      "<class 'list'>\n"
     ]
    }
   ],
   "source": [
    "l=ser.tolist()\n",
    "print(type(l))"
   ]
  },
  {
   "cell_type": "code",
   "execution_count": 19,
   "id": "de4d3093",
   "metadata": {},
   "outputs": [
    {
     "name": "stdout",
     "output_type": "stream",
     "text": [
      "[1, 2, 3, 4, 5, 6, 7, 8, 9]\n"
     ]
    }
   ],
   "source": [
    "print(l)"
   ]
  },
  {
   "cell_type": "code",
   "execution_count": 20,
   "id": "eb1b42c7",
   "metadata": {},
   "outputs": [
    {
     "name": "stdout",
     "output_type": "stream",
     "text": [
      "a    False\n",
      "b    False\n",
      "c    False\n",
      "d     True\n",
      "dtype: bool\n"
     ]
    }
   ],
   "source": [
    "print(ser4.isnull())"
   ]
  },
  {
   "cell_type": "code",
   "execution_count": 21,
   "id": "e1754f5f",
   "metadata": {},
   "outputs": [
    {
     "name": "stdout",
     "output_type": "stream",
     "text": [
      "[ 0.  1.  2. nan]\n"
     ]
    }
   ],
   "source": [
    "print(pd.unique(ser4))"
   ]
  },
  {
   "cell_type": "code",
   "execution_count": 22,
   "id": "00f499d4",
   "metadata": {},
   "outputs": [
    {
     "name": "stdout",
     "output_type": "stream",
     "text": [
      "3\n"
     ]
    }
   ],
   "source": [
    "print(ser4.count())"
   ]
  },
  {
   "cell_type": "code",
   "execution_count": 23,
   "id": "7ff6f027",
   "metadata": {},
   "outputs": [
    {
     "name": "stdout",
     "output_type": "stream",
     "text": [
      "0.0    1\n",
      "1.0    1\n",
      "2.0    1\n",
      "Name: count, dtype: int64\n"
     ]
    }
   ],
   "source": [
    "print(ser4.value_counts())"
   ]
  },
  {
   "cell_type": "code",
   "execution_count": 24,
   "id": "2139d389",
   "metadata": {},
   "outputs": [
    {
     "name": "stdout",
     "output_type": "stream",
     "text": [
      "2.7386127875258306\n"
     ]
    }
   ],
   "source": [
    "print(ser.std())"
   ]
  },
  {
   "cell_type": "markdown",
   "id": "88a1332d",
   "metadata": {},
   "source": [
    "# DataFrame Creation"
   ]
  },
  {
   "cell_type": "code",
   "execution_count": 25,
   "id": "889d7ae3",
   "metadata": {},
   "outputs": [
    {
     "name": "stdout",
     "output_type": "stream",
     "text": [
      "   Num\n",
      "0    1\n",
      "1    2\n",
      "2    3\n",
      "3    4\n",
      "4    5\n"
     ]
    }
   ],
   "source": [
    "df = pd.DataFrame()\n",
    "\n",
    "data = [1,2,3,4,5]\n",
    "df1 = pd.DataFrame(data) #with single list\n",
    "df1.columns=[\"Num\"]\n",
    "print(df1)"
   ]
  },
  {
   "cell_type": "code",
   "execution_count": 31,
   "id": "8fa95f93",
   "metadata": {},
   "outputs": [
    {
     "name": "stdout",
     "output_type": "stream",
     "text": [
      "  Name  Num\n",
      "0   AA   11\n",
      "1   BB   22\n",
      "2   CC   33\n"
     ]
    }
   ],
   "source": [
    "data=[['AA',11],['BB',22],['CC',33]]\n",
    "df2=pd.DataFrame(data,columns=['Name','Num'])\n",
    "print(df2)"
   ]
  },
  {
   "cell_type": "code",
   "execution_count": 37,
   "id": "ec42f1df",
   "metadata": {},
   "outputs": [
    {
     "name": "stdout",
     "output_type": "stream",
     "text": [
      "  Name  Num\n",
      "0   AA   11\n",
      "1   BB   22\n",
      "2   CC   33\n"
     ]
    }
   ],
   "source": [
    "df2=pd.DataFrame(data,columns=['Name','Num'])\n",
    "dtype=float\n",
    "print(df2)"
   ]
  },
  {
   "cell_type": "code",
   "execution_count": 39,
   "id": "237fbba7",
   "metadata": {},
   "outputs": [
    {
     "name": "stdout",
     "output_type": "stream",
     "text": [
      "  Name  Num\n",
      "0   AA   11\n",
      "1   BB   22\n",
      "2   CC   33\n",
      "3   DD   44\n"
     ]
    }
   ],
   "source": [
    "data={'Name':['AA','BB','CC','DD'],'Num':[11,22,33,44]}\n",
    "\n",
    "df3 = pd.DataFrame(data)\n",
    "print(df3)"
   ]
  },
  {
   "cell_type": "code",
   "execution_count": 40,
   "id": "6b8d5863",
   "metadata": {},
   "outputs": [
    {
     "name": "stdout",
     "output_type": "stream",
     "text": [
      "    Name  Num\n",
      "101   AA   11\n",
      "102   BB   22\n",
      "103   CC   33\n",
      "104   DD   44\n"
     ]
    }
   ],
   "source": [
    "ind=[101,102,103,104]\n",
    "df3 = pd.DataFrame(data,index=ind)\n",
    "print(df3)"
   ]
  },
  {
   "cell_type": "code",
   "execution_count": 41,
   "id": "8ebbf0df",
   "metadata": {},
   "outputs": [
    {
     "name": "stdout",
     "output_type": "stream",
     "text": [
      "   one  two\n",
      "a  1.0    1\n",
      "b  2.0    2\n",
      "c  3.0    3\n",
      "d  NaN    4\n"
     ]
    }
   ],
   "source": [
    "data = {'one' : pd.Series([1, 2, 3], index=['a', 'b', 'c']),\n",
    "'two' : pd.Series([1, 2, 3, 4], index=['a', 'b', 'c', 'd'])}\n",
    "\n",
    "df4=pd.DataFrame(data)\n",
    "print(df4)"
   ]
  },
  {
   "cell_type": "markdown",
   "id": "03ac0561",
   "metadata": {},
   "source": [
    "# DataFrame attributes"
   ]
  },
  {
   "cell_type": "code",
   "execution_count": 42,
   "id": "db8d9a69",
   "metadata": {},
   "outputs": [
    {
     "name": "stdout",
     "output_type": "stream",
     "text": [
      "    Name  Num\n",
      "101   AA   11\n",
      "102   BB   22\n",
      "103   CC   33\n",
      "104   DD   44\n"
     ]
    }
   ],
   "source": [
    "data = {'Name':['AA', 'BB', 'CC', 'DD'],\n",
    "'Num':[11,22,33,44]}\n",
    "ind=[101,102,103,104]\n",
    "df=pd.DataFrame(data,index=ind)\n",
    "print(df)"
   ]
  },
  {
   "cell_type": "code",
   "execution_count": 43,
   "id": "fbad19fe",
   "metadata": {},
   "outputs": [
    {
     "name": "stdout",
     "output_type": "stream",
     "text": [
      "Name    object\n",
      "Num      int64\n",
      "dtype: object\n"
     ]
    }
   ],
   "source": [
    "print(df.dtypes)"
   ]
  },
  {
   "cell_type": "code",
   "execution_count": null,
   "id": "faeadac2",
   "metadata": {},
   "outputs": [],
   "source": [
    "print(df.dtypes)"
   ]
  },
  {
   "cell_type": "code",
   "execution_count": 44,
   "id": "7213b577",
   "metadata": {
    "scrolled": true
   },
   "outputs": [
    {
     "name": "stdout",
     "output_type": "stream",
     "text": [
      "Index(['Name', 'Num'], dtype='object')\n",
      "[Index([101, 102, 103, 104], dtype='int64'), Index(['Name', 'Num'], dtype='object')]\n",
      "2\n",
      "8\n",
      "(4, 2)\n",
      "[['AA' 11]\n",
      " ['BB' 22]\n",
      " ['CC' 33]\n",
      " ['DD' 44]]\n",
      "Index([101, 102, 103, 104], dtype='int64')\n"
     ]
    }
   ],
   "source": [
    "print(df.columns)\n",
    "print(df.axes)\n",
    "print(df.ndim)\n",
    "print(df.size)\n",
    "print(df.shape)\n",
    "print(df.values)\n",
    "print(df.index)"
   ]
  },
  {
   "cell_type": "markdown",
   "id": "bb7aa077",
   "metadata": {},
   "source": [
    "# Column Operations"
   ]
  },
  {
   "cell_type": "code",
   "execution_count": 45,
   "id": "5f54037c",
   "metadata": {},
   "outputs": [
    {
     "name": "stdout",
     "output_type": "stream",
     "text": [
      "    Name  Num\n",
      "101   AA   11\n",
      "102   BB   22\n",
      "103   CC   33\n",
      "104   DD   44\n"
     ]
    }
   ],
   "source": [
    "data = {'Name':['AA', 'BB', 'CC', 'DD'], 'Num':[11,22,33,44]}\n",
    "ind=[101,102,103,104]\n",
    "df=pd.DataFrame(data,index=ind)\n",
    "print(df)"
   ]
  },
  {
   "cell_type": "code",
   "execution_count": 46,
   "id": "d397dd05",
   "metadata": {},
   "outputs": [
    {
     "name": "stdout",
     "output_type": "stream",
     "text": [
      "101    11\n",
      "102    22\n",
      "103    33\n",
      "104    44\n",
      "Name: Num, dtype: int64\n"
     ]
    }
   ],
   "source": [
    "print(df['Num'])"
   ]
  },
  {
   "cell_type": "code",
   "execution_count": 48,
   "id": "0cc9e1df",
   "metadata": {},
   "outputs": [
    {
     "name": "stdout",
     "output_type": "stream",
     "text": [
      "    Name  Num  Num1   Num2   Num3\n",
      "101   AA   11   111  111.0  222.0\n",
      "102   BB   22   222  222.0  444.0\n",
      "103   CC   33   333  333.0  666.0\n",
      "104   DD   44   444    NaN    NaN\n"
     ]
    }
   ],
   "source": [
    "df['Num1']=[111,222,333,444]\n",
    "df['Num2']=pd.Series([111,222,333],index=[101,102,103])\n",
    "df['Num3']=df['Num1']+df['Num2'] \n",
    "print(df)"
   ]
  },
  {
   "cell_type": "code",
   "execution_count": 49,
   "id": "d7f85cb8",
   "metadata": {},
   "outputs": [
    {
     "name": "stdout",
     "output_type": "stream",
     "text": [
      "    Name  Num  Num1   Num2\n",
      "101   AA   11   111  111.0\n",
      "102   BB   22   222  222.0\n",
      "103   CC   33   333  333.0\n",
      "104   DD   44   444    NaN\n"
     ]
    }
   ],
   "source": [
    "del df['Num3']\n",
    "print(df)"
   ]
  },
  {
   "cell_type": "code",
   "execution_count": 50,
   "id": "fd3de306",
   "metadata": {},
   "outputs": [
    {
     "name": "stdout",
     "output_type": "stream",
     "text": [
      "    Name  Num  Num1\n",
      "101   AA   11   111\n",
      "102   BB   22   222\n",
      "103   CC   33   333\n",
      "104   DD   44   444\n"
     ]
    }
   ],
   "source": [
    "df.pop('Num2') \n",
    "print(df)"
   ]
  },
  {
   "cell_type": "code",
   "execution_count": 51,
   "id": "6834713a",
   "metadata": {},
   "outputs": [
    {
     "name": "stdout",
     "output_type": "stream",
     "text": [
      "    Name  Num\n",
      "101   AA   11\n",
      "102   BB   22\n",
      "103   CC   33\n",
      "104   DD   44\n"
     ]
    }
   ],
   "source": [
    "df.drop(['Num1'],axis=1,inplace=True)\n",
    "print(df)"
   ]
  },
  {
   "cell_type": "markdown",
   "id": "68e35e24",
   "metadata": {},
   "source": [
    "# Row Operations"
   ]
  },
  {
   "cell_type": "code",
   "execution_count": 52,
   "id": "9d1a99c9",
   "metadata": {},
   "outputs": [
    {
     "name": "stdout",
     "output_type": "stream",
     "text": [
      "Name    AA\n",
      "Num     11\n",
      "Name: 101, dtype: object\n"
     ]
    }
   ],
   "source": [
    "print(df.loc[101])"
   ]
  },
  {
   "cell_type": "code",
   "execution_count": 53,
   "id": "1ab4a6ec",
   "metadata": {},
   "outputs": [
    {
     "name": "stdout",
     "output_type": "stream",
     "text": [
      "Name    CC\n",
      "Num     33\n",
      "Name: 103, dtype: object\n"
     ]
    }
   ],
   "source": [
    "print(df.iloc[2])"
   ]
  },
  {
   "cell_type": "code",
   "execution_count": 54,
   "id": "1640a202",
   "metadata": {},
   "outputs": [
    {
     "name": "stdout",
     "output_type": "stream",
     "text": [
      "    Name  Num\n",
      "103   CC   33\n",
      "104   DD   44\n"
     ]
    }
   ],
   "source": [
    "print(df[2:4])"
   ]
  },
  {
   "cell_type": "code",
   "execution_count": 55,
   "id": "496b1935",
   "metadata": {},
   "outputs": [
    {
     "name": "stdout",
     "output_type": "stream",
     "text": [
      "    Name  Num\n",
      "102   BB   22\n",
      "103   CC   33\n",
      "104   DD   44\n"
     ]
    }
   ],
   "source": [
    "print(df[df['Num']>20])"
   ]
  },
  {
   "cell_type": "code",
   "execution_count": 57,
   "id": "deadb41e",
   "metadata": {},
   "outputs": [
    {
     "name": "stdout",
     "output_type": "stream",
     "text": [
      "    Name  Num\n",
      "105   EE   55\n",
      "106   FF   66\n"
     ]
    }
   ],
   "source": [
    "data2 = {'Name':['EE', 'FF'],'Num':[55,66]}\n",
    "ind2=[105,106]\n",
    "df1=pd.DataFrame(data2,index=ind2)\n",
    "\n",
    "print(df1)"
   ]
  }
 ],
 "metadata": {
  "kernelspec": {
   "display_name": "Python 3 (ipykernel)",
   "language": "python",
   "name": "python3"
  },
  "language_info": {
   "codemirror_mode": {
    "name": "ipython",
    "version": 3
   },
   "file_extension": ".py",
   "mimetype": "text/x-python",
   "name": "python",
   "nbconvert_exporter": "python",
   "pygments_lexer": "ipython3",
   "version": "3.11.5"
  }
 },
 "nbformat": 4,
 "nbformat_minor": 5
}
