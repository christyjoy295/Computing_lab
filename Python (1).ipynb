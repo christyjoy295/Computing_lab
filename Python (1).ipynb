{
 "cells": [
  {
   "cell_type": "markdown",
   "id": "f93afd6d",
   "metadata": {},
   "source": [
    "# Variables"
   ]
  },
  {
   "cell_type": "code",
   "execution_count": 1,
   "id": "b67336bc",
   "metadata": {},
   "outputs": [
    {
     "name": "stdout",
     "output_type": "stream",
     "text": [
      "5\n"
     ]
    }
   ],
   "source": [
    "intVar=5\n",
    "floatVar=3.2\n",
    "stringVar=\"Food\"\n",
    "print(intVar)"
   ]
  },
  {
   "cell_type": "code",
   "execution_count": 2,
   "id": "546e4465",
   "metadata": {},
   "outputs": [
    {
     "name": "stdout",
     "output_type": "stream",
     "text": [
      "3.2\n"
     ]
    }
   ],
   "source": [
    "print(floatVar)"
   ]
  },
  {
   "cell_type": "code",
   "execution_count": 3,
   "id": "4cb36cbd",
   "metadata": {},
   "outputs": [
    {
     "name": "stdout",
     "output_type": "stream",
     "text": [
      "Food\n"
     ]
    }
   ],
   "source": [
    "print(stringVar)"
   ]
  },
  {
   "cell_type": "code",
   "execution_count": 4,
   "id": "d5f158e9",
   "metadata": {},
   "outputs": [
    {
     "name": "stdout",
     "output_type": "stream",
     "text": [
      "<class 'int'>\n"
     ]
    }
   ],
   "source": [
    "variable=100\n",
    "print(type(variable))"
   ]
  },
  {
   "cell_type": "code",
   "execution_count": 10,
   "id": "e88412fe",
   "metadata": {},
   "outputs": [
    {
     "name": "stdout",
     "output_type": "stream",
     "text": [
      "1: 147.75\n",
      "<class 'float'>\n",
      "2: 147\n",
      "<class 'int'>\n"
     ]
    }
   ],
   "source": [
    "share=295.50/2.0\n",
    "print(\"1:\",share)\n",
    "print(type(share))\n",
    "rounded_share=int(share)\n",
    "print(\"2:\",rounded_share)\n",
    "print(type(rounded_share))"
   ]
  },
  {
   "cell_type": "markdown",
   "id": "91e62880",
   "metadata": {},
   "source": [
    "# Arithmetic operators"
   ]
  },
  {
   "cell_type": "code",
   "execution_count": 11,
   "id": "6108105a",
   "metadata": {},
   "outputs": [
    {
     "name": "stdout",
     "output_type": "stream",
     "text": [
      "10\n"
     ]
    }
   ],
   "source": [
    "print(5+5)"
   ]
  },
  {
   "cell_type": "code",
   "execution_count": 12,
   "id": "7cbd62c9",
   "metadata": {},
   "outputs": [
    {
     "name": "stdout",
     "output_type": "stream",
     "text": [
      "0.2\n"
     ]
    }
   ],
   "source": [
    "x=2\n",
    "y=10\n",
    "print(x/y)"
   ]
  },
  {
   "cell_type": "markdown",
   "id": "5181d7f0",
   "metadata": {},
   "source": [
    "# Arithmetic operators"
   ]
  },
  {
   "cell_type": "code",
   "execution_count": 15,
   "id": "752938da",
   "metadata": {},
   "outputs": [
    {
     "name": "stdout",
     "output_type": "stream",
     "text": [
      "Yes\n",
      "A match !!\n"
     ]
    }
   ],
   "source": [
    "intVar=5\n",
    "floatVar=3.2\n",
    "stringVar=\"Food\"\n",
    "if intVar>floatVar:\n",
    "    print(\"Yes\")\n",
    "if intVar==5:\n",
    "    print(\"A match !!\")"
   ]
  },
  {
   "cell_type": "markdown",
   "id": "b7bbbc93",
   "metadata": {},
   "source": [
    "# Working with strings"
   ]
  },
  {
   "cell_type": "code",
   "execution_count": 16,
   "id": "dc9f95f0",
   "metadata": {},
   "outputs": [
    {
     "name": "stdout",
     "output_type": "stream",
     "text": [
      "1: Hello hai !\n",
      "2: 11\n"
     ]
    }
   ],
   "source": [
    "greeting='Hello hai !'\n",
    "print('1:',greeting)\n",
    "print('2:',len(greeting))"
   ]
  },
  {
   "cell_type": "markdown",
   "id": "681fa08e",
   "metadata": {},
   "source": [
    "# Dictionaries"
   ]
  },
  {
   "cell_type": "code",
   "execution_count": 18,
   "id": "5bd195ad",
   "metadata": {},
   "outputs": [
    {
     "name": "stdout",
     "output_type": "stream",
     "text": [
      "1: {'Eggs': 5.23, 'Steak': 42.3, 'Bacon': 52.12}\n",
      "2: <class 'dict'>\n",
      "price of Bacon is: 52.12\n"
     ]
    }
   ],
   "source": [
    "prices={\"Eggs\":5.23,\"Steak\": 42.3,\"Bacon\":52.12}\n",
    "print(\"1:\",prices)\n",
    "print(\"2:\",type(prices))\n",
    "print(\"price of Bacon is:\",prices[\"Bacon\"])"
   ]
  },
  {
   "cell_type": "markdown",
   "id": "5da4e656",
   "metadata": {},
   "source": [
    "# Indexing"
   ]
  },
  {
   "cell_type": "code",
   "execution_count": 21,
   "id": "4471a67a",
   "metadata": {},
   "outputs": [
    {
     "name": "stdout",
     "output_type": "stream",
     "text": [
      "first element: D\n"
     ]
    }
   ],
   "source": [
    "test_string=\"Dogs are better than cat\"\n",
    "print('first element:',test_string[0])"
   ]
  },
  {
   "cell_type": "markdown",
   "id": "3cacb6b6",
   "metadata": {},
   "source": [
    "# Tuples"
   ]
  },
  {
   "cell_type": "code",
   "execution_count": 22,
   "id": "e76d6def",
   "metadata": {},
   "outputs": [
    {
     "name": "stdout",
     "output_type": "stream",
     "text": [
      "1: (5, 10)\n"
     ]
    }
   ],
   "source": [
    "tuple1=(5,10)\n",
    "print('1:',tuple1)"
   ]
  },
  {
   "cell_type": "code",
   "execution_count": 25,
   "id": "2c39c9e2",
   "metadata": {},
   "outputs": [
    {
     "name": "stdout",
     "output_type": "stream",
     "text": [
      "2: <class 'tuple'>\n"
     ]
    }
   ],
   "source": [
    "print('2:',type(tuple1))"
   ]
  },
  {
   "cell_type": "markdown",
   "id": "09579298",
   "metadata": {},
   "source": [
    "# Lists"
   ]
  },
  {
   "cell_type": "code",
   "execution_count": 28,
   "id": "5c6dcfa6",
   "metadata": {},
   "outputs": [
    {
     "name": "stdout",
     "output_type": "stream",
     "text": [
      "List 1: [1, 2, 3]\n",
      "Arbitary list: [1, [1, 2, 3], 'Hello']\n"
     ]
    }
   ],
   "source": [
    "numbers=[1,2,3]\n",
    "print(\"List 1:\",numbers)\n",
    "arbitary_list=[1,numbers,\"Hello\"]\n",
    "print(\"Arbitary list:\", arbitary_list)"
   ]
  },
  {
   "cell_type": "markdown",
   "id": "d12f1453",
   "metadata": {},
   "source": [
    "# Adding elements to a list"
   ]
  },
  {
   "cell_type": "code",
   "execution_count": 29,
   "id": "6187bd97",
   "metadata": {},
   "outputs": [
    {
     "name": "stdout",
     "output_type": "stream",
     "text": [
      "List 1: [1, 2, 3]\n",
      "Amended list 1: [1, 5, 3]\n"
     ]
    }
   ],
   "source": [
    "numbers=[1,2,3]\n",
    "print(\"List 1:\",numbers)\n",
    "numbers[1]=5\n",
    "print(\"Amended list 1:\",numbers)\n"
   ]
  },
  {
   "cell_type": "code",
   "execution_count": 30,
   "id": "c1ae96e1",
   "metadata": {},
   "outputs": [
    {
     "name": "stdout",
     "output_type": "stream",
     "text": [
      "Amended list 1: [1, 5, 3, 4]\n"
     ]
    }
   ],
   "source": [
    "numbers.append(4)\n",
    "print(\"Amended list 1:\",numbers)"
   ]
  },
  {
   "cell_type": "markdown",
   "id": "d2090fc0",
   "metadata": {},
   "source": [
    "# Removing elements from a list "
   ]
  },
  {
   "cell_type": "code",
   "execution_count": 31,
   "id": "8a34859c",
   "metadata": {},
   "outputs": [
    {
     "name": "stdout",
     "output_type": "stream",
     "text": [
      "List 1: [1, 2, 3]\n",
      "Amended list 1: [1, 2]\n"
     ]
    }
   ],
   "source": [
    "numbers=[1,2,3]\n",
    "print(\"List 1:\",numbers)\n",
    "numbers.remove(3)\n",
    "print(\"Amended list 1:\",numbers)"
   ]
  },
  {
   "cell_type": "code",
   "execution_count": 32,
   "id": "fbfe96e8",
   "metadata": {},
   "outputs": [
    {
     "name": "stdout",
     "output_type": "stream",
     "text": [
      "List 1: [1, 2, 3]\n",
      "Amended list 1: [1, 3]\n"
     ]
    }
   ],
   "source": [
    "numbers=[1,2,3]\n",
    "print(\"List 1:\",numbers)\n",
    "del numbers[1]\n",
    "print(\"Amended list 1:\",numbers)"
   ]
  },
  {
   "cell_type": "markdown",
   "id": "bac6fe50",
   "metadata": {},
   "source": [
    "# For loops"
   ]
  },
  {
   "cell_type": "code",
   "execution_count": 33,
   "id": "53853ba4",
   "metadata": {},
   "outputs": [
    {
     "name": "stdout",
     "output_type": "stream",
     "text": [
      "dog\n",
      "cat\n",
      "shark\n",
      "falcon\n"
     ]
    }
   ],
   "source": [
    "species=['dog','cat','shark','falcon']\n",
    "for i in species:\n",
    "    print(i)"
   ]
  },
  {
   "cell_type": "code",
   "execution_count": 34,
   "id": "6247c48b",
   "metadata": {},
   "outputs": [
    {
     "name": "stdout",
     "output_type": "stream",
     "text": [
      "219\n"
     ]
    }
   ],
   "source": [
    "numbers=[1,20,18,5,15,160]\n",
    "total=0\n",
    "for value in numbers:\n",
    "    total=total+value\n",
    "print(total)"
   ]
  },
  {
   "cell_type": "markdown",
   "id": "5e6f61ac",
   "metadata": {},
   "source": [
    "# The range() function"
   ]
  },
  {
   "cell_type": "code",
   "execution_count": 35,
   "id": "3ff4a272",
   "metadata": {},
   "outputs": [
    {
     "name": "stdout",
     "output_type": "stream",
     "text": [
      "0\n",
      "1\n",
      "2\n",
      "3\n",
      "4\n"
     ]
    }
   ],
   "source": [
    "for i in range(5):\n",
    "    print(i)"
   ]
  },
  {
   "cell_type": "code",
   "execution_count": 36,
   "id": "01f693d4",
   "metadata": {},
   "outputs": [
    {
     "name": "stdout",
     "output_type": "stream",
     "text": [
      "3\n",
      "4\n",
      "5\n"
     ]
    }
   ],
   "source": [
    "for i in range(3,6):\n",
    "    print(i)"
   ]
  },
  {
   "cell_type": "code",
   "execution_count": 37,
   "id": "67a164e3",
   "metadata": {},
   "outputs": [
    {
     "name": "stdout",
     "output_type": "stream",
     "text": [
      "4\n",
      "6\n",
      "8\n"
     ]
    }
   ],
   "source": [
    "for i in range(4,10,2):\n",
    "    print(i)"
   ]
  },
  {
   "cell_type": "markdown",
   "id": "0bde11a7",
   "metadata": {},
   "source": [
    "# The break() function"
   ]
  },
  {
   "cell_type": "code",
   "execution_count": 38,
   "id": "3bdee14b",
   "metadata": {},
   "outputs": [
    {
     "name": "stdout",
     "output_type": "stream",
     "text": [
      "1\n",
      "2\n"
     ]
    }
   ],
   "source": [
    "for i in range(1,10):\n",
    "    if i==3:\n",
    "        break\n",
    "    print(i)"
   ]
  },
  {
   "cell_type": "markdown",
   "id": "70b89632",
   "metadata": {},
   "source": [
    "# The continue () function"
   ]
  },
  {
   "cell_type": "code",
   "execution_count": 39,
   "id": "4905cf78",
   "metadata": {},
   "outputs": [
    {
     "name": "stdout",
     "output_type": "stream",
     "text": [
      "1\n",
      "2\n",
      "4\n",
      "5\n",
      "6\n",
      "7\n",
      "8\n",
      "9\n"
     ]
    }
   ],
   "source": [
    "for i in range(1,10):\n",
    "    if i==3:\n",
    "        continue\n",
    "    print(i)"
   ]
  },
  {
   "cell_type": "markdown",
   "id": "1f3fb090",
   "metadata": {},
   "source": [
    "# While loops"
   ]
  },
  {
   "cell_type": "code",
   "execution_count": 40,
   "id": "3d4e8969",
   "metadata": {},
   "outputs": [
    {
     "name": "stdout",
     "output_type": "stream",
     "text": [
      "dog\n",
      "cat\n",
      "shark\n"
     ]
    }
   ],
   "source": [
    "species=['dog','cat','shark','falcon','deer']\n",
    "i=0\n",
    "while i<3:\n",
    "    print(species[i])\n",
    "    i=i+1"
   ]
  },
  {
   "cell_type": "markdown",
   "id": "8db213c4",
   "metadata": {},
   "source": [
    "# Nested loops"
   ]
  },
  {
   "cell_type": "code",
   "execution_count": 42,
   "id": "f836d54b",
   "metadata": {},
   "outputs": [
    {
     "name": "stdout",
     "output_type": "stream",
     "text": [
      "1 * 1 = 1\n",
      "1 * 2 = 2\n",
      "1 * 3 = 3\n",
      "1 * 4 = 4\n",
      "1 * 5 = 5\n",
      "1 * 6 = 6\n",
      "1 * 7 = 7\n",
      "1 * 8 = 8\n",
      "1 * 9 = 9\n",
      "1 * 10 = 10\n",
      "2 * 1 = 2\n",
      "2 * 2 = 4\n",
      "2 * 3 = 6\n",
      "2 * 4 = 8\n",
      "2 * 5 = 10\n",
      "2 * 6 = 12\n",
      "2 * 7 = 14\n",
      "2 * 8 = 16\n",
      "2 * 9 = 18\n",
      "2 * 10 = 20\n",
      "3 * 1 = 3\n",
      "3 * 2 = 6\n",
      "3 * 3 = 9\n",
      "3 * 4 = 12\n",
      "3 * 5 = 15\n",
      "3 * 6 = 18\n",
      "3 * 7 = 21\n",
      "3 * 8 = 24\n",
      "3 * 9 = 27\n",
      "3 * 10 = 30\n",
      "4 * 1 = 4\n",
      "4 * 2 = 8\n",
      "4 * 3 = 12\n",
      "4 * 4 = 16\n",
      "4 * 5 = 20\n",
      "4 * 6 = 24\n",
      "4 * 7 = 28\n",
      "4 * 8 = 32\n",
      "4 * 9 = 36\n",
      "4 * 10 = 40\n",
      "5 * 1 = 5\n",
      "5 * 2 = 10\n",
      "5 * 3 = 15\n",
      "5 * 4 = 20\n",
      "5 * 5 = 25\n",
      "5 * 6 = 30\n",
      "5 * 7 = 35\n",
      "5 * 8 = 40\n",
      "5 * 9 = 45\n",
      "5 * 10 = 50\n",
      "6 * 1 = 6\n",
      "6 * 2 = 12\n",
      "6 * 3 = 18\n",
      "6 * 4 = 24\n",
      "6 * 5 = 30\n",
      "6 * 6 = 36\n",
      "6 * 7 = 42\n",
      "6 * 8 = 48\n",
      "6 * 9 = 54\n",
      "6 * 10 = 60\n",
      "7 * 1 = 7\n",
      "7 * 2 = 14\n",
      "7 * 3 = 21\n",
      "7 * 4 = 28\n",
      "7 * 5 = 35\n",
      "7 * 6 = 42\n",
      "7 * 7 = 49\n",
      "7 * 8 = 56\n",
      "7 * 9 = 63\n",
      "7 * 10 = 70\n",
      "8 * 1 = 8\n",
      "8 * 2 = 16\n",
      "8 * 3 = 24\n",
      "8 * 4 = 32\n",
      "8 * 5 = 40\n",
      "8 * 6 = 48\n",
      "8 * 7 = 56\n",
      "8 * 8 = 64\n",
      "8 * 9 = 72\n",
      "8 * 10 = 80\n",
      "9 * 1 = 9\n",
      "9 * 2 = 18\n",
      "9 * 3 = 27\n",
      "9 * 4 = 36\n",
      "9 * 5 = 45\n",
      "9 * 6 = 54\n",
      "9 * 7 = 63\n",
      "9 * 8 = 72\n",
      "9 * 9 = 81\n",
      "9 * 10 = 90\n",
      "10 * 1 = 10\n",
      "10 * 2 = 20\n",
      "10 * 3 = 30\n",
      "10 * 4 = 40\n",
      "10 * 5 = 50\n",
      "10 * 6 = 60\n",
      "10 * 7 = 70\n",
      "10 * 8 = 80\n",
      "10 * 9 = 90\n",
      "10 * 10 = 100\n"
     ]
    }
   ],
   "source": [
    "for x in range(1,11):\n",
    "    for y in range(1,11):\n",
    "        print('%d *% d = %d' %(x,y,x*y))"
   ]
  },
  {
   "cell_type": "markdown",
   "id": "e48765c2",
   "metadata": {},
   "source": [
    "# Conditionals"
   ]
  },
  {
   "cell_type": "code",
   "execution_count": 43,
   "id": "43bc7df0",
   "metadata": {},
   "outputs": [
    {
     "name": "stdout",
     "output_type": "stream",
     "text": [
      "No beer\n"
     ]
    }
   ],
   "source": [
    "school_night=True\n",
    "if school_night==True:\n",
    "    print(\"No beer\")\n",
    "else:\n",
    "    print(\"You may have beer\")"
   ]
  },
  {
   "cell_type": "code",
   "execution_count": 44,
   "id": "1a54ff0d",
   "metadata": {},
   "outputs": [
    {
     "name": "stdout",
     "output_type": "stream",
     "text": [
      "You may have beer\n"
     ]
    }
   ],
   "source": [
    "school_night=False\n",
    "if school_night==True:\n",
    "    print(\"No beer\")\n",
    "else:\n",
    "    print(\"You may have beer\")"
   ]
  },
  {
   "cell_type": "markdown",
   "id": "3af7ded2",
   "metadata": {},
   "source": [
    "# elif"
   ]
  },
  {
   "cell_type": "code",
   "execution_count": 45,
   "id": "2ff2db89",
   "metadata": {},
   "outputs": [
    {
     "name": "stdout",
     "output_type": "stream",
     "text": [
      "No food for Lew\n"
     ]
    }
   ],
   "source": [
    "Lew_is_tired=False\n",
    "Lew_is_hungry=True\n",
    "if Lew_is_tired is True:\n",
    "    print(\"Lew has to teach\")\n",
    "elif Lew_is_hungry is True:\n",
    "    print(\"No food for Lew\")\n",
    "else:\n",
    "    print(\"Go on, have a biscuit\")"
   ]
  },
  {
   "cell_type": "markdown",
   "id": "c567a6a2",
   "metadata": {},
   "source": [
    "# Functions"
   ]
  },
  {
   "cell_type": "code",
   "execution_count": 47,
   "id": "80cb7bca",
   "metadata": {},
   "outputs": [
    {
     "name": "stdout",
     "output_type": "stream",
     "text": [
      "20\n"
     ]
    }
   ],
   "source": [
    "def practise_function(a,b):\n",
    "    answer=a*b\n",
    "    return answer\n",
    "x=5\n",
    "y=4\n",
    "calculated=practise_function(x,y)\n",
    "print(calculated)"
   ]
  },
  {
   "cell_type": "code",
   "execution_count": 48,
   "id": "0ebffa14",
   "metadata": {},
   "outputs": [
    {
     "name": "stdout",
     "output_type": "stream",
     "text": [
      "----------------------\n",
      "The answer to 1 * 2 is:  2\n",
      "The result to this squared is:  4\n",
      "The answer to 1 * 4 is:  4\n",
      "The result to this squared is:  16\n",
      "----------------------\n",
      "The answer to 2 * 2 is:  4\n",
      "The result to this squared is:  16\n",
      "The answer to 2 * 4 is:  8\n",
      "The result to this squared is:  64\n",
      "----------------------\n",
      "The answer to 3 * 2 is:  6\n",
      "The result to this squared is:  36\n",
      "The answer to 3 * 4 is:  12\n",
      "The result to this squared is:  144\n"
     ]
    }
   ],
   "source": [
    "def multiply_function(a,b):\n",
    "    result=a*b\n",
    "    result2=result*result\n",
    "    return result,result2\n",
    "numbers_list=[1,2,3]\n",
    "multiplier_list=[2,4]\n",
    "for n in numbers_list:\n",
    "    print(\"----------------------\")\n",
    "    for m in multiplier_list:\n",
    "        current_answer,current_answer2=multiply_function(n,m)\n",
    "        print(\"The answer to %d * %d is: \"%(n,m),current_answer)\n",
    "        print(\"The result to this squared is: \",current_answer2)"
   ]
  },
  {
   "cell_type": "markdown",
   "id": "f63342be",
   "metadata": {},
   "source": [
    "# Plotting in Python"
   ]
  },
  {
   "cell_type": "code",
   "execution_count": 49,
   "id": "61bd1a36",
   "metadata": {},
   "outputs": [],
   "source": [
    "import matplotlib.pyplot as plt\n",
    "import numpy as np"
   ]
  },
  {
   "cell_type": "code",
   "execution_count": 50,
   "id": "fd3bd179",
   "metadata": {},
   "outputs": [
    {
     "data": {
      "image/png": "[encoded data removed]",
      "text/plain": [
       "<Figure size 640x480 with 1 Axes>"
      ]
     },
     "metadata": {},
     "output_type": "display_data"
    }
   ],
   "source": [
    "plt.plot([1,2,3,4])\n",
    "plt.ylabel('Some numbers')\n",
    "plt.xlabel('A meaningless axis')\n",
    "plt.show()"
   ]
  },
  {
   "cell_type": "code",
   "execution_count": 51,
   "id": "d8cd7fb7",
   "metadata": {},
   "outputs": [
    {
     "data": {
      "image/png": "[encoded data removed]",
      "text/plain": [
       "<Figure size 640x480 with 1 Axes>"
      ]
     },
     "metadata": {},
     "output_type": "display_data"
    }
   ],
   "source": [
    "plt.plot([1,2,3,4,5],[1,4,9,50,2])\n",
    "plt.ylabel('Some numbers')\n",
    "plt.xlabel('A meaningless axis')\n",
    "plt.show()"
   ]
  },
  {
   "cell_type": "code",
   "execution_count": null,
   "id": "b10060b5",
   "metadata": {},
   "outputs": [],
   "source": []
  }
 ],
 "metadata": {
  "kernelspec": {
   "display_name": "Python 3 (ipykernel)",
   "language": "python",
   "name": "python3"
  },
  "language_info": {
   "codemirror_mode": {
    "name": "ipython",
    "version": 3
   },
   "file_extension": ".py",
   "mimetype": "text/x-python",
   "name": "python",
   "nbconvert_exporter": "python",
   "pygments_lexer": "ipython3",
   "version": "3.11.5"
  }
 },
 "nbformat": 4,
 "nbformat_minor": 5
}
